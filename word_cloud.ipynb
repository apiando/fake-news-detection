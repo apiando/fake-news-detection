{
 "cells": [
  {
   "cell_type": "code",
   "execution_count": null,
   "id": "27e0badd",
   "metadata": {},
   "outputs": [],
   "source": [
    "from wordcloud import WordCloud\n",
    "import matplotlib.pyplot as plt\n",
    "\n",
    "# Making sure that our dataset has the correct column names\n",
    "dataset = df.copy() #df is main combined dataset of real and fake news\n",
    "dataset = dataset.rename(columns={\"label\": \"target\"})\n",
    "\n",
    "# WordCloud for Real News (target = 1)\n",
    "#Combine all titles where the target is 1 (real news) into one large string\n",
    "consolidated = ' '.join(word for word in dataset['title'][dataset['target'] == 1].astype(str))\n",
    "#Create a WorldClloud object wit specific demensions and settings\n",
    "wordCloud = WordCloud(width=1600, height=800, random_state=21, max_font_size=110, collocations=False)\n",
    "#Figure size for displaying the word cloud\n",
    "plt.figure(figsize=(15, 10))\n",
    "#Generate and display the word cloud image\n",
    "plt.imshow(wordCloud.generate(consolidated), interpolation='bilinear')\n",
    "#Remove axes from the image\n",
    "plt.axis('off')\n",
    "#Add a title to plot\n",
    "plt.title(\"WordCloud for Real News\", fontsize=20)\n",
    "plt.show()\n",
    "\n",
    "# WordCloud for Fake News (target = 0) repeat the same\n",
    "consolidated = ' '.join(word for word in dataset['title'][dataset['target'] == 0].astype(str))\n",
    "wordCloud = WordCloud(width=1600, height=800, random_state=21, max_font_size=110, collocations=False)\n",
    "plt.figure(figsize=(15, 10))\n",
    "plt.imshow(wordCloud.generate(consolidated), interpolation='bilinear')\n",
    "plt.axis('off')\n",
    "plt.title(\"WordCloud for Fake News\", fontsize=20)\n",
    "plt.show()"
   ]
  }
 ],
 "metadata": {
  "language_info": {
   "name": "python"
  }
 },
 "nbformat": 4,
 "nbformat_minor": 5
}
