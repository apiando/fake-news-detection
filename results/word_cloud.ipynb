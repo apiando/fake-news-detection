{
 "cells": [
  {
   "cell_type": "markdown",
   "id": "1b303a23",
   "metadata": {},
   "source": [
    "Import data from CSV files"
   ]
  },
  {
   "cell_type": "code",
   "execution_count": null,
   "id": "2f232dfa",
   "metadata": {},
   "outputs": [],
   "source": [
    "import pandas as pd\n",
    "\n",
    "true_df = pd.read_csv(\"../training/True.csv\")\n",
    "fake_df = pd.read_csv(\"../training/Fake.csv\")\n",
    "\n",
    "true_df[\"label\"] = 1\n",
    "fake_df[\"label\"] = 0\n",
    "\n",
    "df = pd.concat([true_df, fake_df], axis=0)\n",
    "df = df.sample(frac=1).reset_index(drop=True)\n",
    "df = df[[\"title\", \"text\", \"label\"]]"
   ]
  },
  {
   "cell_type": "markdown",
   "id": "e5e91051",
   "metadata": {},
   "source": [
    "Install necessary software"
   ]
  },
  {
   "cell_type": "code",
   "execution_count": null,
   "id": "1cb462a9",
   "metadata": {},
   "outputs": [],
   "source": [
    "%pip install wordcloud"
   ]
  },
  {
   "cell_type": "markdown",
   "id": "f80b1cc9",
   "metadata": {},
   "source": [
    "Ensure dataset has the correct column names"
   ]
  },
  {
   "cell_type": "code",
   "execution_count": null,
   "id": "27e0badd",
   "metadata": {},
   "outputs": [],
   "source": [
    "from wordcloud import WordCloud\n",
    "import matplotlib.pyplot as plt\n",
    "\n",
    "dataset = df.copy() \n",
    "dataset = dataset.rename(columns={\"label\": \"target\"})"
   ]
  },
  {
   "cell_type": "markdown",
   "id": "4b950749",
   "metadata": {},
   "source": [
    "Generate word cloud for Real News (target = 1)"
   ]
  },
  {
   "cell_type": "code",
   "execution_count": null,
   "id": "9e736132",
   "metadata": {},
   "outputs": [],
   "source": [
    "# combine all titles where the target is 1 (real news) into one large string\n",
    "consolidated = ' '.join(word for word in dataset['title'][dataset['target'] == 1].astype(str))\n",
    "# create a WorldCloud object with specific demensions and settings\n",
    "wordCloud = WordCloud(width=1600, height=800, random_state=21, max_font_size=110, collocations=False)\n",
    "# figure size for displaying the word cloud\n",
    "plt.figure(figsize=(15, 10))\n",
    "# generate and display the word cloud image\n",
    "plt.imshow(wordCloud.generate(consolidated), interpolation='bilinear')\n",
    "# remove axes from the image\n",
    "plt.axis('off')\n",
    "# add a title to plot\n",
    "plt.title(\"WordCloud for Real News\", fontsize=20)\n",
    "plt.show()"
   ]
  },
  {
   "cell_type": "markdown",
   "id": "298e9803",
   "metadata": {},
   "source": [
    "Generate word cloud for Real News (target = 0)"
   ]
  },
  {
   "cell_type": "code",
   "execution_count": null,
   "id": "c83fab7f",
   "metadata": {},
   "outputs": [],
   "source": [
    "consolidated = ' '.join(word for word in dataset['title'][dataset['target'] == 0].astype(str))\n",
    "wordCloud = WordCloud(width=1600, height=800, random_state=21, max_font_size=110, collocations=False)\n",
    "plt.figure(figsize=(15, 10))\n",
    "plt.imshow(wordCloud.generate(consolidated), interpolation='bilinear')\n",
    "plt.axis('off')\n",
    "plt.title(\"WordCloud for Fake News\", fontsize=20)\n",
    "plt.show()"
   ]
  }
 ],
 "metadata": {
  "kernelspec": {
   "display_name": "506",
   "language": "python",
   "name": "python3"
  },
  "language_info": {
   "codemirror_mode": {
    "name": "ipython",
    "version": 3
   },
   "file_extension": ".py",
   "mimetype": "text/x-python",
   "name": "python",
   "nbconvert_exporter": "python",
   "pygments_lexer": "ipython3",
   "version": "3.9.12"
  }
 },
 "nbformat": 4,
 "nbformat_minor": 5
}
